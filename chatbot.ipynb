{
 "cells": [
  {
   "cell_type": "code",
   "execution_count": null,
   "id": "a92f542e-07a6-43d7-8a27-c25ef7fcdea2",
   "metadata": {},
   "outputs": [
    {
     "name": "stdout",
     "output_type": "stream",
     "text": [
      "Chatbot: Hi! Type 'bye' to exit.\n"
     ]
    },
    {
     "name": "stdin",
     "output_type": "stream",
     "text": [
      "You:  hello\n"
     ]
    },
    {
     "name": "stdout",
     "output_type": "stream",
     "text": [
      "Chatbot: Hi there! What can I do for you?\n"
     ]
    },
    {
     "name": "stdin",
     "output_type": "stream",
     "text": [
      "You:  are you fine\n"
     ]
    },
    {
     "name": "stdout",
     "output_type": "stream",
     "text": [
      "Chatbot: Sorry, I don't understand that.\n"
     ]
    },
    {
     "name": "stdin",
     "output_type": "stream",
     "text": [
      "You:  love\n"
     ]
    },
    {
     "name": "stdout",
     "output_type": "stream",
     "text": [
      "Chatbot: Sorry, I don't understand that.\n"
     ]
    }
   ],
   "source": [
    "# Simple Chatbot\n",
    "\n",
    "def get_response(user_input):\n",
    "    user_input = user_input.lower()\n",
    "    \n",
    "    responses = {\n",
    "        \"hi\": \"Hello! How can I help you today?\",\n",
    "        \"hello\": \"Hi there! What can I do for you?\",\n",
    "        \"how are you\": \"I'm just a bot, but I'm doing fine! How about you?\",\n",
    "        \"bye\": \"Goodbye! Have a great day!\",\n",
    "        \"what is your name\": \"I am a simple chatbot created by you.\",\n",
    "        \"default\": \"Sorry, I don't understand that.\"\n",
    "    }\n",
    "    \n",
    "    # Check for a response based on user input\n",
    "    response = responses.get(user_input, responses[\"default\"])\n",
    "    \n",
    "    return response\n",
    "\n",
    "def chat():\n",
    "    print(\"Chatbot: Hi! Type 'bye' to exit.\")\n",
    "    while True:\n",
    "        user_input = input(\"You: \")\n",
    "        if user_input.lower() == \"bye\":\n",
    "            print(\"Chatbot: Goodbye!\")\n",
    "            break\n",
    "        response = get_response(user_input)\n",
    "        print(\"Chatbot:\", response)\n",
    "\n",
    "if __name__ == \"__main__\":\n",
    "    chat()\n"
   ]
  },
  {
   "cell_type": "code",
   "execution_count": null,
   "id": "18f8e8d3-0ba6-4c8e-b2d2-31bfa0b70cdc",
   "metadata": {},
   "outputs": [],
   "source": []
  }
 ],
 "metadata": {
  "kernelspec": {
   "display_name": "Python 3 (ipykernel)",
   "language": "python",
   "name": "python3"
  },
  "language_info": {
   "codemirror_mode": {
    "name": "ipython",
    "version": 3
   },
   "file_extension": ".py",
   "mimetype": "text/x-python",
   "name": "python",
   "nbconvert_exporter": "python",
   "pygments_lexer": "ipython3",
   "version": "3.12.3"
  }
 },
 "nbformat": 4,
 "nbformat_minor": 5
}
